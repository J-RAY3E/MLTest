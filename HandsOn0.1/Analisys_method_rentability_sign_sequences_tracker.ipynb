{
  "cells": [
    {
      "cell_type": "markdown",
      "metadata": {
        "id": "QJe2zqTIvlwt"
      },
      "source": [
        "**Analisys quality of the signs**"
      ]
    },
    {
      "cell_type": "code",
      "execution_count": 24,
      "metadata": {
        "id": "p2cawStGupPh"
      },
      "outputs": [],
      "source": [
        "import pandas\n",
        "import ast\n",
        "import numpy as np\n",
        "import pandas as pd\n",
        "from sklearn.model_selection import train_test_split\n",
        "import json"
      ]
    },
    {
      "cell_type": "code",
      "execution_count": 25,
      "metadata": {
        "id": "ukQ6MxFnv2ht"
      },
      "outputs": [],
      "source": [
        "data1 = pd.read_csv('/content/data_fetched2.csv', index_col='id')\n",
        "data2 = pd.read_csv('/content/data_fetched3.csv', index_col='id')\n",
        "data3 = pd.read_csv('/content/data_fetched4.csv', index_col='id')\n",
        "data4 = pd.read_csv('/content/data_fetched5.csv', index_col='id')\n",
        "\n",
        "data = pd.concat([data1, data2, data3, data4])"
      ]
    },
    {
      "cell_type": "code",
      "execution_count": 26,
      "metadata": {
        "id": "uF_cdUO2wRAq"
      },
      "outputs": [],
      "source": [
        "def parse(T):\n",
        "  T = T.strip()\n",
        "  if not T:\n",
        "    return []\n",
        "  try:\n",
        "    obj = ast.literal_eval(T)\n",
        "    while isinstance(obj, str):\n",
        "      obj = ast.literal_eval(obj)\n",
        "    return obj\n",
        "\n",
        "  except ValueError:\n",
        "    try:\n",
        "      T = T.replace(\"'\",'\"')\n",
        "      return json.loads(T)\n",
        "    except ValueError:\n",
        "      raise ValueError(\"No se puede parsear\")"
      ]
    },
    {
      "cell_type": "code",
      "source": [
        "set(data[\"label\"].to_list())"
      ],
      "metadata": {
        "colab": {
          "base_uri": "https://localhost:8080/"
        },
        "id": "ew6onVjjWJNY",
        "outputId": "c35ddd9d-7d72-479f-cf83-f9bcff7745ad"
      },
      "execution_count": 27,
      "outputs": [
        {
          "output_type": "execute_result",
          "data": {
            "text/plain": [
              "{'again',\n",
              " 'age',\n",
              " 'bad',\n",
              " 'bathroom',\n",
              " 'busy',\n",
              " 'chat',\n",
              " 'come',\n",
              " 'deaf',\n",
              " 'dontlike',\n",
              " 'dontunderstand',\n",
              " 'favorite',\n",
              " 'fine',\n",
              " 'friend',\n",
              " 'go',\n",
              " 'god',\n",
              " 'goodbye',\n",
              " 'great',\n",
              " 'hardofhearing',\n",
              " 'have',\n",
              " 'havent',\n",
              " 'hearing',\n",
              " 'hello',\n",
              " 'howareu',\n",
              " 'im',\n",
              " 'learn',\n",
              " 'learning',\n",
              " 'like',\n",
              " 'myname',\n",
              " 'name',\n",
              " 'nicetomeetu',\n",
              " 'nicetomeetyou',\n",
              " 'nicetometyou',\n",
              " 'no',\n",
              " 'noise',\n",
              " 'notalot',\n",
              " 'nothing',\n",
              " 'oisee',\n",
              " 'ok',\n",
              " 'please',\n",
              " 'restaurant',\n",
              " 'school',\n",
              " 'seeulater',\n",
              " 'seeyoulater',\n",
              " 'sign',\n",
              " 'singlanguaje',\n",
              " 'slow',\n",
              " 'sorry',\n",
              " 'soso',\n",
              " 'takecare',\n",
              " 'teacher',\n",
              " 'thanku',\n",
              " 'understand',\n",
              " 'want',\n",
              " 'what',\n",
              " 'whatsup',\n",
              " 'where',\n",
              " 'work',\n",
              " 'yes',\n",
              " 'you',\n",
              " 'youname'}"
            ]
          },
          "metadata": {},
          "execution_count": 27
        }
      ]
    },
    {
      "cell_type": "code",
      "execution_count": 28,
      "metadata": {
        "id": "gmbO2ZOXwUsr"
      },
      "outputs": [],
      "source": [
        "data[\"sequence\"] = data[\"sequence\"].apply(parse)"
      ]
    },
    {
      "cell_type": "code",
      "source": [
        "import numpy as np\n",
        "\n",
        "def positional_encoding(length, dim):\n",
        "    pos = np.arange(length)[:, np.newaxis]\n",
        "    i = np.arange(dim)[np.newaxis, :]\n",
        "    angle_rates = 1 / np.power(10000, (2 * (i//2)) / np.float32(dim))\n",
        "    encoding = pos * angle_rates\n",
        "    encoding[:, 0::2] = np.sin(encoding[:, 0::2])\n",
        "    encoding[:, 1::2] = np.cos(encoding[:, 1::2])\n",
        "    return encoding\n"
      ],
      "metadata": {
        "id": "JOqGIu6pyDl3"
      },
      "execution_count": 7,
      "outputs": []
    },
    {
      "cell_type": "code",
      "execution_count": 34,
      "metadata": {
        "id": "lDDTGch-xT7a"
      },
      "outputs": [],
      "source": [
        "def flatting(sequence):\n",
        "  features_tags = ['left_hand', 'right_hand', 'pose', 'face']\n",
        "  seq_f = []\n",
        "\n",
        "  for i in range(len(sequence)):\n",
        "    for feature in features_tags:\n",
        "      seq_f.extend(sequence[i][feature])\n",
        "  return np.array(seq_f) if len(seq_f) == 2340 else None"
      ]
    },
    {
      "cell_type": "code",
      "execution_count": 35,
      "metadata": {
        "id": "A4WLPNiUxVKT"
      },
      "outputs": [],
      "source": [
        "data[\"input\"] = data[\"sequence\"].apply(flatting)"
      ]
    },
    {
      "cell_type": "code",
      "source": [
        "data = data.dropna(subset=[\"input\"])"
      ],
      "metadata": {
        "id": "aI7a-69YhZ03"
      },
      "execution_count": 36,
      "outputs": []
    },
    {
      "cell_type": "code",
      "source": [
        "import numpy as np\n",
        "import copy\n",
        "\n",
        "def augment_sequence(sequence, noise_std=0.01, scale_range=(0.9, 1.1),\n",
        "                     translation_range=(-0.05, 0.05), rotation_range=(-15, 15),\n",
        "                     horizontal_flip_prob=0.5):\n",
        "    \"\"\"\n",
        "    Aplica múltiples augmentations sobre una secuencia de frames.\n",
        "    Args:\n",
        "        sequence: list de dicts con keys ['left_hand','right_hand','pose','face'] y valores listas de puntos.\n",
        "        noise_std: desviación estándar del ruido gaussiano.\n",
        "        scale_range: rango de escalado aleatorio.\n",
        "        translation_range: rango de traslación aleatoria.\n",
        "        rotation_range: rango de rotación Z en grados.\n",
        "        horizontal_flip_prob: probabilidad de reflejo horizontal.\n",
        "    Returns:\n",
        "        secuencia aumentada (misma estructura)\n",
        "    \"\"\"\n",
        "    seq_aug = copy.deepcopy(sequence)\n",
        "\n",
        "    # Random rotation Z\n",
        "    angle_deg = np.random.uniform(*rotation_range)\n",
        "    angle_rad = np.deg2rad(angle_deg)\n",
        "    Rz = np.array([\n",
        "        [np.cos(angle_rad), -np.sin(angle_rad), 0],\n",
        "        [np.sin(angle_rad),  np.cos(angle_rad), 0],\n",
        "        [0, 0, 1]\n",
        "    ])\n",
        "\n",
        "    scale = np.random.uniform(*scale_range)\n",
        "    translation = np.random.uniform(*translation_range, size=3)\n",
        "\n",
        "    do_flip = np.random.rand() < horizontal_flip_prob\n",
        "\n",
        "    for i, frame in enumerate(seq_aug):\n",
        "        for key in frame.keys():\n",
        "            points = np.array(frame[key]).reshape(-1, 3)\n",
        "            points *= scale\n",
        "            points += translation\n",
        "            points = points @ Rz.T\n",
        "            points += np.random.normal(0, noise_std, points.shape)\n",
        "            if do_flip:\n",
        "                points[:, 0] *= -1\n",
        "            frame[key] = points.flatten().tolist()\n",
        "\n",
        "    return seq_aug\n"
      ],
      "metadata": {
        "id": "tQOjIIr_-zD3"
      },
      "execution_count": 37,
      "outputs": []
    },
    {
      "cell_type": "code",
      "source": [
        "data_sequences = data[\"sequence\"].to_list()\n",
        "labels = data[\"label\"].to_list()\n",
        "n = 10\n",
        "data_aug_sequences = []\n",
        "data_aug_labels = []\n",
        "for label,data_sequence in zip(labels,data_sequences):\n",
        "  data_aug_sequences.extend([augment_sequence(data_sequence) for _ in range(n)])\n",
        "  data_aug_labels.extend([label for _ in range(n)])\n",
        "data_aug_sequences.extend(data_sequences)\n",
        "data_aug_labels.extend(labels)"
      ],
      "metadata": {
        "id": "4y63N_9V_B8b"
      },
      "execution_count": 38,
      "outputs": []
    },
    {
      "cell_type": "code",
      "source": [
        "data_aug_sequences = [flatting(data_aug_sequence) for data_aug_sequence in data_aug_sequences]"
      ],
      "metadata": {
        "id": "KT_aeW60_o9U"
      },
      "execution_count": 39,
      "outputs": []
    },
    {
      "cell_type": "code",
      "source": [
        "from sklearn.manifold import TSNE\n",
        "import matplotlib.pyplot as plt\n",
        "\n",
        "X = np.vstack(data_aug_sequences)\n",
        "y = np.array(data_aug_labels)\n",
        "tsne = TSNE(n_components=2, random_state=42)\n",
        "X_embedded = tsne.fit_transform(X)\n",
        "\n",
        "cmap = plt.get_cmap(\"tab20\")\n",
        "unique_labels = np.unique(y)\n",
        "color_dict = {label: cmap(i / len(unique_labels)) for i, label in enumerate(unique_labels)}\n",
        "\n",
        "\n",
        "colors = [color_dict[label] for label in y]\n",
        "\n",
        "\n",
        "plt.scatter(X_embedded[:, 0], X_embedded[:, 1], c=colors, cmap='tab10')\n",
        "plt.colorbar()\n",
        "plt.show()\n"
      ],
      "metadata": {
        "colab": {
          "base_uri": "https://localhost:8080/",
          "height": 490
        },
        "id": "XqN2QThdgc1Z",
        "outputId": "fb890684-ad77-455e-d75e-4a93523841d1"
      },
      "execution_count": 40,
      "outputs": [
        {
          "output_type": "stream",
          "name": "stderr",
          "text": [
            "/tmp/ipython-input-3029312668.py:17: UserWarning: No data for colormapping provided via 'c'. Parameters 'cmap' will be ignored\n",
            "  plt.scatter(X_embedded[:, 0], X_embedded[:, 1], c=colors, cmap='tab10')\n"
          ]
        },
        {
          "output_type": "display_data",
          "data": {
            "text/plain": [
              "<Figure size 640x480 with 2 Axes>"
            ],
            "image/png": "[encoded data removed]"
          },
          "metadata": {}
        }
      ]
    },
    {
      "cell_type": "code",
      "source": [
        "import numpy as np\n",
        "from tensorflow.keras.models import Sequential\n",
        "from tensorflow.keras.layers import Bidirectional, LSTM, Dense, Dropout\n",
        "from tensorflow.keras.utils import to_categorical\n",
        "from sklearn.preprocessing import LabelEncoder\n",
        "from sklearn.model_selection import train_test_split\n",
        "\n",
        "X = np.vstack(data_aug_sequences)\n",
        "y = np.array(data_aug_labels)\n",
        "\n",
        "le = LabelEncoder()\n",
        "y_enc = le.fit_transform(y)\n",
        "y_enc = to_categorical(y_enc)\n",
        "\n",
        "seq_len = 15\n",
        "features_per_frame = X.shape[1] // seq_len\n",
        "X_reshaped = X.reshape(-1, seq_len, features_per_frame)\n",
        "X_train, X_test, y_train, y_test = train_test_split(X_reshaped, y_enc, test_size=0.2, random_state=42)\n",
        "\n",
        "\n",
        "model = Sequential([\n",
        "    Bidirectional(LSTM(128, return_sequences=False), input_shape=(seq_len, features_per_frame)),\n",
        "    Dropout(0.3),\n",
        "    Dense(64, activation='relu'),\n",
        "    Dropout(0.3),\n",
        "    Dense(y_enc.shape[1], activation='softmax')\n",
        "])\n",
        "\n",
        "model.compile(optimizer='adam', loss='categorical_crossentropy', metrics=['accuracy'])\n",
        "model.summary()\n",
        "\n",
        "\n",
        "model.fit(X_train, y_train, validation_data=(X_test, y_test), epochs=30, batch_size=32)"
      ],
      "metadata": {
        "colab": {
          "base_uri": "https://localhost:8080/",
          "height": 1000
        },
        "id": "KaFtTjIjCHML",
        "outputId": "bde6b5cc-34c1-47aa-80f4-ad6b757edc69"
      },
      "execution_count": 41,
      "outputs": [
        {
          "output_type": "stream",
          "name": "stderr",
          "text": [
            "/usr/local/lib/python3.11/dist-packages/keras/src/layers/rnn/bidirectional.py:107: UserWarning: Do not pass an `input_shape`/`input_dim` argument to a layer. When using Sequential models, prefer using an `Input(shape)` object as the first layer in the model instead.\n",
            "  super().__init__(**kwargs)\n"
          ]
        },
        {
          "output_type": "display_data",
          "data": {
            "text/plain": [
              "\u001b[1mModel: \"sequential_1\"\u001b[0m\n"
            ],
            "text/html": [
              "<pre style=\"white-space:pre;overflow-x:auto;line-height:normal;font-family:Menlo,'DejaVu Sans Mono',consolas,'Courier New',monospace\"><span style=\"font-weight: bold\">Model: \"sequential_1\"</span>\n",
              "</pre>\n"
            ]
          },
          "metadata": {}
        },
        {
          "output_type": "display_data",
          "data": {
            "text/plain": [
              "┏━━━━━━━━━━━━━━━━━━━━━━━━━━━━━━━━━┳━━━━━━━━━━━━━━━━━━━━━━━━┳━━━━━━━━━━━━━━━┓\n",
              "┃\u001b[1m \u001b[0m\u001b[1mLayer (type)                   \u001b[0m\u001b[1m \u001b[0m┃\u001b[1m \u001b[0m\u001b[1mOutput Shape          \u001b[0m\u001b[1m \u001b[0m┃\u001b[1m \u001b[0m\u001b[1m      Param #\u001b[0m\u001b[1m \u001b[0m┃\n",
              "┡━━━━━━━━━━━━━━━━━━━━━━━━━━━━━━━━━╇━━━━━━━━━━━━━━━━━━━━━━━━╇━━━━━━━━━━━━━━━┩\n",
              "│ bidirectional (\u001b[38;5;33mBidirectional\u001b[0m)   │ (\u001b[38;5;45mNone\u001b[0m, \u001b[38;5;34m256\u001b[0m)            │       \u001b[38;5;34m291,840\u001b[0m │\n",
              "├─────────────────────────────────┼────────────────────────┼───────────────┤\n",
              "│ dropout_1 (\u001b[38;5;33mDropout\u001b[0m)             │ (\u001b[38;5;45mNone\u001b[0m, \u001b[38;5;34m256\u001b[0m)            │             \u001b[38;5;34m0\u001b[0m │\n",
              "├─────────────────────────────────┼────────────────────────┼───────────────┤\n",
              "│ dense_1 (\u001b[38;5;33mDense\u001b[0m)                 │ (\u001b[38;5;45mNone\u001b[0m, \u001b[38;5;34m64\u001b[0m)             │        \u001b[38;5;34m16,448\u001b[0m │\n",
              "├─────────────────────────────────┼────────────────────────┼───────────────┤\n",
              "│ dropout_2 (\u001b[38;5;33mDropout\u001b[0m)             │ (\u001b[38;5;45mNone\u001b[0m, \u001b[38;5;34m64\u001b[0m)             │             \u001b[38;5;34m0\u001b[0m │\n",
              "├─────────────────────────────────┼────────────────────────┼───────────────┤\n",
              "│ dense_2 (\u001b[38;5;33mDense\u001b[0m)                 │ (\u001b[38;5;45mNone\u001b[0m, \u001b[38;5;34m58\u001b[0m)             │         \u001b[38;5;34m3,770\u001b[0m │\n",
              "└─────────────────────────────────┴────────────────────────┴───────────────┘\n"
            ],
            "text/html": [
              "<pre style=\"white-space:pre;overflow-x:auto;line-height:normal;font-family:Menlo,'DejaVu Sans Mono',consolas,'Courier New',monospace\">┏━━━━━━━━━━━━━━━━━━━━━━━━━━━━━━━━━┳━━━━━━━━━━━━━━━━━━━━━━━━┳━━━━━━━━━━━━━━━┓\n",
              "┃<span style=\"font-weight: bold\"> Layer (type)                    </span>┃<span style=\"font-weight: bold\"> Output Shape           </span>┃<span style=\"font-weight: bold\">       Param # </span>┃\n",
              "┡━━━━━━━━━━━━━━━━━━━━━━━━━━━━━━━━━╇━━━━━━━━━━━━━━━━━━━━━━━━╇━━━━━━━━━━━━━━━┩\n",
              "│ bidirectional (<span style=\"color: #0087ff; text-decoration-color: #0087ff\">Bidirectional</span>)   │ (<span style=\"color: #00d7ff; text-decoration-color: #00d7ff\">None</span>, <span style=\"color: #00af00; text-decoration-color: #00af00\">256</span>)            │       <span style=\"color: #00af00; text-decoration-color: #00af00\">291,840</span> │\n",
              "├─────────────────────────────────┼────────────────────────┼───────────────┤\n",
              "│ dropout_1 (<span style=\"color: #0087ff; text-decoration-color: #0087ff\">Dropout</span>)             │ (<span style=\"color: #00d7ff; text-decoration-color: #00d7ff\">None</span>, <span style=\"color: #00af00; text-decoration-color: #00af00\">256</span>)            │             <span style=\"color: #00af00; text-decoration-color: #00af00\">0</span> │\n",
              "├─────────────────────────────────┼────────────────────────┼───────────────┤\n",
              "│ dense_1 (<span style=\"color: #0087ff; text-decoration-color: #0087ff\">Dense</span>)                 │ (<span style=\"color: #00d7ff; text-decoration-color: #00d7ff\">None</span>, <span style=\"color: #00af00; text-decoration-color: #00af00\">64</span>)             │        <span style=\"color: #00af00; text-decoration-color: #00af00\">16,448</span> │\n",
              "├─────────────────────────────────┼────────────────────────┼───────────────┤\n",
              "│ dropout_2 (<span style=\"color: #0087ff; text-decoration-color: #0087ff\">Dropout</span>)             │ (<span style=\"color: #00d7ff; text-decoration-color: #00d7ff\">None</span>, <span style=\"color: #00af00; text-decoration-color: #00af00\">64</span>)             │             <span style=\"color: #00af00; text-decoration-color: #00af00\">0</span> │\n",
              "├─────────────────────────────────┼────────────────────────┼───────────────┤\n",
              "│ dense_2 (<span style=\"color: #0087ff; text-decoration-color: #0087ff\">Dense</span>)                 │ (<span style=\"color: #00d7ff; text-decoration-color: #00d7ff\">None</span>, <span style=\"color: #00af00; text-decoration-color: #00af00\">58</span>)             │         <span style=\"color: #00af00; text-decoration-color: #00af00\">3,770</span> │\n",
              "└─────────────────────────────────┴────────────────────────┴───────────────┘\n",
              "</pre>\n"
            ]
          },
          "metadata": {}
        },
        {
          "output_type": "display_data",
          "data": {
            "text/plain": [
              "\u001b[1m Total params: \u001b[0m\u001b[38;5;34m312,058\u001b[0m (1.19 MB)\n"
            ],
            "text/html": [
              "<pre style=\"white-space:pre;overflow-x:auto;line-height:normal;font-family:Menlo,'DejaVu Sans Mono',consolas,'Courier New',monospace\"><span style=\"font-weight: bold\"> Total params: </span><span style=\"color: #00af00; text-decoration-color: #00af00\">312,058</span> (1.19 MB)\n",
              "</pre>\n"
            ]
          },
          "metadata": {}
        },
        {
          "output_type": "display_data",
          "data": {
            "text/plain": [
              "\u001b[1m Trainable params: \u001b[0m\u001b[38;5;34m312,058\u001b[0m (1.19 MB)\n"
            ],
            "text/html": [
              "<pre style=\"white-space:pre;overflow-x:auto;line-height:normal;font-family:Menlo,'DejaVu Sans Mono',consolas,'Courier New',monospace\"><span style=\"font-weight: bold\"> Trainable params: </span><span style=\"color: #00af00; text-decoration-color: #00af00\">312,058</span> (1.19 MB)\n",
              "</pre>\n"
            ]
          },
          "metadata": {}
        },
        {
          "output_type": "display_data",
          "data": {
            "text/plain": [
              "\u001b[1m Non-trainable params: \u001b[0m\u001b[38;5;34m0\u001b[0m (0.00 B)\n"
            ],
            "text/html": [
              "<pre style=\"white-space:pre;overflow-x:auto;line-height:normal;font-family:Menlo,'DejaVu Sans Mono',consolas,'Courier New',monospace\"><span style=\"font-weight: bold\"> Non-trainable params: </span><span style=\"color: #00af00; text-decoration-color: #00af00\">0</span> (0.00 B)\n",
              "</pre>\n"
            ]
          },
          "metadata": {}
        },
        {
          "output_type": "stream",
          "name": "stdout",
          "text": [
            "Epoch 1/30\n",
            "\u001b[1m60/60\u001b[0m \u001b[32m━━━━━━━━━━━━━━━━━━━━\u001b[0m\u001b[37m\u001b[0m \u001b[1m8s\u001b[0m 72ms/step - accuracy: 0.0347 - loss: 3.9773 - val_accuracy: 0.1029 - val_loss: 3.6483\n",
            "Epoch 2/30\n",
            "\u001b[1m60/60\u001b[0m \u001b[32m━━━━━━━━━━━━━━━━━━━━\u001b[0m\u001b[37m\u001b[0m \u001b[1m3s\u001b[0m 49ms/step - accuracy: 0.0668 - loss: 3.6418 - val_accuracy: 0.1324 - val_loss: 3.3244\n",
            "Epoch 3/30\n",
            "\u001b[1m60/60\u001b[0m \u001b[32m━━━━━━━━━━━━━━━━━━━━\u001b[0m\u001b[37m\u001b[0m \u001b[1m6s\u001b[0m 58ms/step - accuracy: 0.0848 - loss: 3.3609 - val_accuracy: 0.1891 - val_loss: 2.9676\n",
            "Epoch 4/30\n",
            "\u001b[1m60/60\u001b[0m \u001b[32m━━━━━━━━━━━━━━━━━━━━\u001b[0m\u001b[37m\u001b[0m \u001b[1m5s\u001b[0m 48ms/step - accuracy: 0.1536 - loss: 3.0646 - val_accuracy: 0.2752 - val_loss: 2.6520\n",
            "Epoch 5/30\n",
            "\u001b[1m60/60\u001b[0m \u001b[32m━━━━━━━━━━━━━━━━━━━━\u001b[0m\u001b[37m\u001b[0m \u001b[1m3s\u001b[0m 49ms/step - accuracy: 0.1959 - loss: 2.8161 - val_accuracy: 0.3151 - val_loss: 2.3722\n",
            "Epoch 6/30\n",
            "\u001b[1m60/60\u001b[0m \u001b[32m━━━━━━━━━━━━━━━━━━━━\u001b[0m\u001b[37m\u001b[0m \u001b[1m6s\u001b[0m 73ms/step - accuracy: 0.2492 - loss: 2.5375 - val_accuracy: 0.3992 - val_loss: 2.1006\n",
            "Epoch 7/30\n",
            "\u001b[1m60/60\u001b[0m \u001b[32m━━━━━━━━━━━━━━━━━━━━\u001b[0m\u001b[37m\u001b[0m \u001b[1m4s\u001b[0m 47ms/step - accuracy: 0.3256 - loss: 2.2293 - val_accuracy: 0.4979 - val_loss: 1.8230\n",
            "Epoch 8/30\n",
            "\u001b[1m60/60\u001b[0m \u001b[32m━━━━━━━━━━━━━━━━━━━━\u001b[0m\u001b[37m\u001b[0m \u001b[1m5s\u001b[0m 49ms/step - accuracy: 0.3661 - loss: 2.0288 - val_accuracy: 0.5210 - val_loss: 1.6536\n",
            "Epoch 9/30\n",
            "\u001b[1m60/60\u001b[0m \u001b[32m━━━━━━━━━━━━━━━━━━━━\u001b[0m\u001b[37m\u001b[0m \u001b[1m6s\u001b[0m 55ms/step - accuracy: 0.4292 - loss: 1.7901 - val_accuracy: 0.5084 - val_loss: 1.5440\n",
            "Epoch 10/30\n",
            "\u001b[1m60/60\u001b[0m \u001b[32m━━━━━━━━━━━━━━━━━━━━\u001b[0m\u001b[37m\u001b[0m \u001b[1m3s\u001b[0m 48ms/step - accuracy: 0.4704 - loss: 1.6763 - val_accuracy: 0.5000 - val_loss: 1.5226\n",
            "Epoch 11/30\n",
            "\u001b[1m60/60\u001b[0m \u001b[32m━━━━━━━━━━━━━━━━━━━━\u001b[0m\u001b[37m\u001b[0m \u001b[1m3s\u001b[0m 49ms/step - accuracy: 0.5194 - loss: 1.5241 - val_accuracy: 0.6029 - val_loss: 1.2396\n",
            "Epoch 12/30\n",
            "\u001b[1m60/60\u001b[0m \u001b[32m━━━━━━━━━━━━━━━━━━━━\u001b[0m\u001b[37m\u001b[0m \u001b[1m4s\u001b[0m 64ms/step - accuracy: 0.5709 - loss: 1.3092 - val_accuracy: 0.6345 - val_loss: 1.1429\n",
            "Epoch 13/30\n",
            "\u001b[1m60/60\u001b[0m \u001b[32m━━━━━━━━━━━━━━━━━━━━\u001b[0m\u001b[37m\u001b[0m \u001b[1m4s\u001b[0m 49ms/step - accuracy: 0.6141 - loss: 1.2489 - val_accuracy: 0.7038 - val_loss: 0.9205\n",
            "Epoch 14/30\n",
            "\u001b[1m60/60\u001b[0m \u001b[32m━━━━━━━━━━━━━━━━━━━━\u001b[0m\u001b[37m\u001b[0m \u001b[1m5s\u001b[0m 47ms/step - accuracy: 0.6552 - loss: 1.0524 - val_accuracy: 0.7101 - val_loss: 0.9348\n",
            "Epoch 15/30\n",
            "\u001b[1m60/60\u001b[0m \u001b[32m━━━━━━━━━━━━━━━━━━━━\u001b[0m\u001b[37m\u001b[0m \u001b[1m6s\u001b[0m 57ms/step - accuracy: 0.6914 - loss: 0.9540 - val_accuracy: 0.7416 - val_loss: 0.7461\n",
            "Epoch 16/30\n",
            "\u001b[1m60/60\u001b[0m \u001b[32m━━━━━━━━━━━━━━━━━━━━\u001b[0m\u001b[37m\u001b[0m \u001b[1m4s\u001b[0m 47ms/step - accuracy: 0.6978 - loss: 0.8964 - val_accuracy: 0.8004 - val_loss: 0.6850\n",
            "Epoch 17/30\n",
            "\u001b[1m60/60\u001b[0m \u001b[32m━━━━━━━━━━━━━━━━━━━━\u001b[0m\u001b[37m\u001b[0m \u001b[1m3s\u001b[0m 49ms/step - accuracy: 0.7016 - loss: 0.8836 - val_accuracy: 0.8340 - val_loss: 0.5891\n",
            "Epoch 18/30\n",
            "\u001b[1m60/60\u001b[0m \u001b[32m━━━━━━━━━━━━━━━━━━━━\u001b[0m\u001b[37m\u001b[0m \u001b[1m4s\u001b[0m 71ms/step - accuracy: 0.7592 - loss: 0.7040 - val_accuracy: 0.8151 - val_loss: 0.5222\n",
            "Epoch 19/30\n",
            "\u001b[1m60/60\u001b[0m \u001b[32m━━━━━━━━━━━━━━━━━━━━\u001b[0m\u001b[37m\u001b[0m \u001b[1m4s\u001b[0m 48ms/step - accuracy: 0.7810 - loss: 0.6546 - val_accuracy: 0.7920 - val_loss: 0.6416\n",
            "Epoch 20/30\n",
            "\u001b[1m60/60\u001b[0m \u001b[32m━━━━━━━━━━━━━━━━━━━━\u001b[0m\u001b[37m\u001b[0m \u001b[1m3s\u001b[0m 50ms/step - accuracy: 0.7520 - loss: 0.7283 - val_accuracy: 0.8466 - val_loss: 0.4450\n",
            "Epoch 21/30\n",
            "\u001b[1m60/60\u001b[0m \u001b[32m━━━━━━━━━━━━━━━━━━━━\u001b[0m\u001b[37m\u001b[0m \u001b[1m6s\u001b[0m 71ms/step - accuracy: 0.8138 - loss: 0.5601 - val_accuracy: 0.8256 - val_loss: 0.5369\n",
            "Epoch 22/30\n",
            "\u001b[1m60/60\u001b[0m \u001b[32m━━━━━━━━━━━━━━━━━━━━\u001b[0m\u001b[37m\u001b[0m \u001b[1m3s\u001b[0m 50ms/step - accuracy: 0.8278 - loss: 0.5264 - val_accuracy: 0.8046 - val_loss: 0.5622\n",
            "Epoch 23/30\n",
            "\u001b[1m60/60\u001b[0m \u001b[32m━━━━━━━━━━━━━━━━━━━━\u001b[0m\u001b[37m\u001b[0m \u001b[1m5s\u001b[0m 48ms/step - accuracy: 0.8336 - loss: 0.4810 - val_accuracy: 0.8529 - val_loss: 0.3803\n",
            "Epoch 24/30\n",
            "\u001b[1m60/60\u001b[0m \u001b[32m━━━━━━━━━━━━━━━━━━━━\u001b[0m\u001b[37m\u001b[0m \u001b[1m4s\u001b[0m 73ms/step - accuracy: 0.8443 - loss: 0.4576 - val_accuracy: 0.8193 - val_loss: 0.4847\n",
            "Epoch 25/30\n",
            "\u001b[1m60/60\u001b[0m \u001b[32m━━━━━━━━━━━━━━━━━━━━\u001b[0m\u001b[37m\u001b[0m \u001b[1m4s\u001b[0m 48ms/step - accuracy: 0.7970 - loss: 0.5708 - val_accuracy: 0.8929 - val_loss: 0.3262\n",
            "Epoch 26/30\n",
            "\u001b[1m60/60\u001b[0m \u001b[32m━━━━━━━━━━━━━━━━━━━━\u001b[0m\u001b[37m\u001b[0m \u001b[1m3s\u001b[0m 50ms/step - accuracy: 0.8717 - loss: 0.3804 - val_accuracy: 0.9013 - val_loss: 0.3056\n",
            "Epoch 27/30\n",
            "\u001b[1m60/60\u001b[0m \u001b[32m━━━━━━━━━━━━━━━━━━━━\u001b[0m\u001b[37m\u001b[0m \u001b[1m3s\u001b[0m 51ms/step - accuracy: 0.8744 - loss: 0.3494 - val_accuracy: 0.8992 - val_loss: 0.3033\n",
            "Epoch 28/30\n",
            "\u001b[1m60/60\u001b[0m \u001b[32m━━━━━━━━━━━━━━━━━━━━\u001b[0m\u001b[37m\u001b[0m \u001b[1m4s\u001b[0m 69ms/step - accuracy: 0.8884 - loss: 0.3041 - val_accuracy: 0.9118 - val_loss: 0.2226\n",
            "Epoch 29/30\n",
            "\u001b[1m60/60\u001b[0m \u001b[32m━━━━━━━━━━━━━━━━━━━━\u001b[0m\u001b[37m\u001b[0m \u001b[1m3s\u001b[0m 48ms/step - accuracy: 0.9126 - loss: 0.2815 - val_accuracy: 0.9097 - val_loss: 0.2372\n",
            "Epoch 30/30\n",
            "\u001b[1m60/60\u001b[0m \u001b[32m━━━━━━━━━━━━━━━━━━━━\u001b[0m\u001b[37m\u001b[0m \u001b[1m5s\u001b[0m 48ms/step - accuracy: 0.9083 - loss: 0.2849 - val_accuracy: 0.9349 - val_loss: 0.1914\n"
          ]
        },
        {
          "output_type": "execute_result",
          "data": {
            "text/plain": [
              "<keras.src.callbacks.history.History at 0x79af05d5dc50>"
            ]
          },
          "metadata": {},
          "execution_count": 41
        }
      ]
    },
    {
      "cell_type": "code",
      "source": [
        "from sklearn.model_selection import train_test_split\n",
        "\n",
        "X_train_dev, X_test, y_train_dev, y_test = train_test_split(\n",
        "    X, y, test_size=0.1, random_state=42, stratify=y\n",
        ")\n",
        "\n",
        "X_train, X_dev, y_train, y_dev = train_test_split(\n",
        "    X_train_dev, y_train_dev, test_size=0.1, random_state=42, stratify=y_train_dev\n",
        ")\n"
      ],
      "metadata": {
        "id": "fhUIDSpjCUyo",
        "collapsed": true
      },
      "execution_count": null,
      "outputs": []
    },
    {
      "cell_type": "code",
      "source": [
        "n_samples = X_train.shape[0]\n",
        "n_features = 2340\n",
        "timesteps = 15          # según tus frames\n",
        "features_per_timestep = n_features // timesteps  # 2340 / 15 = 156\n",
        "\n",
        "X_train_reshaped = X_train.reshape(n_samples, timesteps, features_per_timestep)\n"
      ],
      "metadata": {
        "id": "m-uzuf4TLEGS"
      },
      "execution_count": 47,
      "outputs": []
    },
    {
      "cell_type": "code",
      "source": [
        "import numpy as np\n",
        "from sklearn.model_selection import train_test_split\n",
        "from sklearn.preprocessing import LabelEncoder\n",
        "from tensorflow.keras.utils import to_categorical\n",
        "from tensorflow.keras.models import Sequential\n",
        "from tensorflow.keras.layers import LSTM, Dense, Dropout, Input\n",
        "from tensorflow.keras.optimizers import Adam\n",
        "from kerastuner.tuners import RandomSearch\n",
        "\n",
        "\n",
        "le = LabelEncoder()\n",
        "y_int = le.fit_transform(y)\n",
        "y_ohe = to_categorical(y_int)\n",
        "\n",
        "\n",
        "X_train, X_temp, y_train, y_temp = train_test_split(\n",
        "    X, y_ohe, test_size=0.20, random_state=42, stratify=y_ohe\n",
        ")\n",
        "X_val, X_test, y_val, y_test = train_test_split(\n",
        "    X_temp, y_temp, test_size=0.5, random_state=42, stratify=y_temp\n",
        ")\n",
        "\n",
        "timesteps = 15\n",
        "features_per_frame = X.shape[1] // timesteps\n",
        "X_train_reshaped = X_train.reshape(-1, timesteps, features_per_frame)\n",
        "X_val_reshaped   = X_val.reshape(-1, timesteps, features_per_frame)\n",
        "X_test_reshaped  = X_test.reshape(-1, timesteps, features_per_frame)\n",
        "\n",
        "def build_model(hp):\n",
        "    model = Sequential()\n",
        "    model.add(Input(shape=(timesteps, features_per_frame)))\n",
        "    model.add(LSTM(units=hp.Int('units', min_value=64, max_value=256, step=64),\n",
        "                   return_sequences=False))\n",
        "    model.add(Dropout(rate=hp.Float('dropout', 0.2, 0.5, step=0.1)))\n",
        "    model.add(Dense(y_train.shape[1], activation='softmax'))\n",
        "    model.compile(\n",
        "        optimizer=Adam(hp.Choice('lr', [1e-2, 1e-3, 1e-4])),\n",
        "        loss='categorical_crossentropy',\n",
        "        metrics=['accuracy']\n",
        "    )\n",
        "    return model\n",
        "\n",
        "tuner = RandomSearch(\n",
        "    build_model,\n",
        "    objective='val_accuracy',\n",
        "    max_trials=5,\n",
        "    executions_per_trial=1,\n",
        "    directory='bilstm_tuner_clean',\n",
        "    project_name='signs'\n",
        ")\n",
        "\n",
        "\n",
        "tuner.search(\n",
        "    X_train_reshaped, y_train,\n",
        "    epochs=50,\n",
        "    batch_size=64,\n",
        "    validation_data=(X_val_reshaped, y_val),\n",
        "    verbose=2\n",
        ")\n",
        "\n",
        "\n",
        "best_model = tuner.get_best_models(num_models=1)[0]\n",
        "\n",
        "test_loss, test_acc = best_model.evaluate(X_test_reshaped, y_test)\n",
        "print(f\"Test Accuracy: {test_acc:.4f}\")\n"
      ],
      "metadata": {
        "colab": {
          "base_uri": "https://localhost:8080/"
        },
        "id": "zZkVjeFxMDJv",
        "outputId": "f70095fc-3122-4d0e-95fe-249f4990eddd"
      },
      "execution_count": 52,
      "outputs": [
        {
          "output_type": "stream",
          "name": "stdout",
          "text": [
            "Trial 5 Complete [00h 02m 26s]\n",
            "val_accuracy: 0.9957982897758484\n",
            "\n",
            "Best val_accuracy So Far: 0.9957982897758484\n",
            "Total elapsed time: 00h 09m 36s\n"
          ]
        },
        {
          "output_type": "stream",
          "name": "stderr",
          "text": [
            "/usr/local/lib/python3.11/dist-packages/keras/src/saving/saving_lib.py:802: UserWarning: Skipping variable loading for optimizer 'adam', because it has 2 variables whereas the saved optimizer has 12 variables. \n",
            "  saveable.load_own_variables(weights_store.get(inner_path))\n"
          ]
        },
        {
          "output_type": "stream",
          "name": "stdout",
          "text": [
            "\u001b[1m8/8\u001b[0m \u001b[32m━━━━━━━━━━━━━━━━━━━━\u001b[0m\u001b[37m\u001b[0m \u001b[1m1s\u001b[0m 19ms/step - accuracy: 0.9900 - loss: 0.0407\n",
            "Test Accuracy: 0.9916\n"
          ]
        }
      ]
    },
    {
      "cell_type": "code",
      "source": [
        "best_model.save(\"bilstm_sign_model.keras\")"
      ],
      "metadata": {
        "id": "wjjMYXtdRb6U"
      },
      "execution_count": 53,
      "outputs": []
    }
  ],
  "metadata": {
    "colab": {
      "provenance": []
    },
    "kernelspec": {
      "display_name": "Python 3",
      "name": "python3"
    },
    "language_info": {
      "name": "python"
    }
  },
  "nbformat": 4,
  "nbformat_minor": 0
}