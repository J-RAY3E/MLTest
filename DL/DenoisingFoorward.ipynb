{
  "cells": [
    {
      "cell_type": "code",
      "execution_count": null,
      "metadata": {
        "id": "9juCrvFiL20M"
      },
      "outputs": [],
      "source": [
        "import torch\n",
        "import torch.nn as nn\n",
        "import torch.nn.functional as F\n",
        "import numpy as np\n",
        "import matplotlib.pyplot as plt\n",
        "\n",
        "from tqdm import tqdm\n",
        "from torchvision.utils import  save_image, make_grid\n",
        "from torch.optim import Adam"
      ]
    },
    {
      "cell_type": "code",
      "execution_count": null,
      "metadata": {
        "id": "0Corm-OsPkct"
      },
      "outputs": [],
      "source": [
        "dataset_path = '~/dataset'\n",
        "cuda = True\n",
        "DEVICE = torch.device(\"cuda:0\" if cuda else \"cpu\")\n",
        "dataset = 'MNIST'\n",
        "image_size = (32,32,3) if dataset == 'CIFAR10' else (28,28,1)\n",
        "\n",
        "n_timesteps = 1000\n",
        "time_embeding_dim = 256\n",
        "n_layers = 8\n",
        "hidden_dims = 256\n",
        "beta_min_max = [1e-4,2e-2]\n",
        "\n",
        "train_batch_size = 128\n",
        "inference_batch_size = 64\n",
        "\n",
        "lr = 5e-5\n",
        "epoch = 100\n",
        "\n",
        "hidden_dims = [hidden_dims for _ in range(n_layers)]\n",
        "\n",
        "seed = 1234\n",
        "torch.manual_seed(seed)\n",
        "np.random.seed(seed)"
      ]
    },
    {
      "cell_type": "code",
      "execution_count": null,
      "metadata": {
        "colab": {
          "base_uri": "https://localhost:8080/"
        },
        "id": "RvjVsw4pRYWz",
        "outputId": "9a4cd181-e299-4f96-dca7-0ed850dd7943"
      },
      "outputs": [
        {
          "output_type": "stream",
          "name": "stdout",
          "text": [
            "Downloading http://yann.lecun.com/exdb/mnist/train-images-idx3-ubyte.gz\n",
            "Failed to download (trying next):\n",
            "HTTP Error 403: Forbidden\n",
            "\n",
            "Downloading https://ossci-datasets.s3.amazonaws.com/mnist/train-images-idx3-ubyte.gz\n",
            "Downloading https://ossci-datasets.s3.amazonaws.com/mnist/train-images-idx3-ubyte.gz to /root/dataset/MNIST/raw/train-images-idx3-ubyte.gz\n"
          ]
        },
        {
          "output_type": "stream",
          "name": "stderr",
          "text": [
            "100%|██████████| 9912422/9912422 [00:00<00:00, 16081070.90it/s]\n"
          ]
        },
        {
          "output_type": "stream",
          "name": "stdout",
          "text": [
            "Extracting /root/dataset/MNIST/raw/train-images-idx3-ubyte.gz to /root/dataset/MNIST/raw\n",
            "\n",
            "Downloading http://yann.lecun.com/exdb/mnist/train-labels-idx1-ubyte.gz\n",
            "Failed to download (trying next):\n",
            "HTTP Error 403: Forbidden\n",
            "\n",
            "Downloading https://ossci-datasets.s3.amazonaws.com/mnist/train-labels-idx1-ubyte.gz\n",
            "Downloading https://ossci-datasets.s3.amazonaws.com/mnist/train-labels-idx1-ubyte.gz to /root/dataset/MNIST/raw/train-labels-idx1-ubyte.gz\n"
          ]
        },
        {
          "output_type": "stream",
          "name": "stderr",
          "text": [
            "100%|██████████| 28881/28881 [00:00<00:00, 519131.47it/s]\n"
          ]
        },
        {
          "output_type": "stream",
          "name": "stdout",
          "text": [
            "Extracting /root/dataset/MNIST/raw/train-labels-idx1-ubyte.gz to /root/dataset/MNIST/raw\n",
            "\n",
            "Downloading http://yann.lecun.com/exdb/mnist/t10k-images-idx3-ubyte.gz\n",
            "Failed to download (trying next):\n",
            "HTTP Error 403: Forbidden\n",
            "\n",
            "Downloading https://ossci-datasets.s3.amazonaws.com/mnist/t10k-images-idx3-ubyte.gz\n",
            "Downloading https://ossci-datasets.s3.amazonaws.com/mnist/t10k-images-idx3-ubyte.gz to /root/dataset/MNIST/raw/t10k-images-idx3-ubyte.gz\n"
          ]
        },
        {
          "output_type": "stream",
          "name": "stderr",
          "text": [
            "100%|██████████| 1648877/1648877 [00:00<00:00, 4375656.51it/s]\n"
          ]
        },
        {
          "output_type": "stream",
          "name": "stdout",
          "text": [
            "Extracting /root/dataset/MNIST/raw/t10k-images-idx3-ubyte.gz to /root/dataset/MNIST/raw\n",
            "\n",
            "Downloading http://yann.lecun.com/exdb/mnist/t10k-labels-idx1-ubyte.gz\n",
            "Failed to download (trying next):\n",
            "HTTP Error 403: Forbidden\n",
            "\n",
            "Downloading https://ossci-datasets.s3.amazonaws.com/mnist/t10k-labels-idx1-ubyte.gz\n",
            "Downloading https://ossci-datasets.s3.amazonaws.com/mnist/t10k-labels-idx1-ubyte.gz to /root/dataset/MNIST/raw/t10k-labels-idx1-ubyte.gz\n"
          ]
        },
        {
          "output_type": "stream",
          "name": "stderr",
          "text": [
            "100%|██████████| 4542/4542 [00:00<00:00, 6427303.90it/s]"
          ]
        },
        {
          "output_type": "stream",
          "name": "stdout",
          "text": [
            "Extracting /root/dataset/MNIST/raw/t10k-labels-idx1-ubyte.gz to /root/dataset/MNIST/raw\n",
            "\n"
          ]
        },
        {
          "output_type": "stream",
          "name": "stderr",
          "text": [
            "\n"
          ]
        }
      ],
      "source": [
        "from torchvision.datasets import MNIST, CIFAR10\n",
        "import torchvision.transforms as  transforms\n",
        "from torch.utils.data import DataLoader\n",
        "\n",
        "\n",
        "transformis = transforms.Compose([\n",
        "    transforms.ToTensor()\n",
        "])\n",
        "\n",
        "kwargs = {'num_workers':1,'pin_memory':True}\n",
        "\n",
        "if dataset == 'MNIST':\n",
        "  dataset_train = MNIST(dataset_path,transform =transformis, train = True, download = True )\n",
        "  dataset_inference = MNIST(dataset_path,transform =transformis, train = False, download = True )\n",
        "else:\n",
        "  dataset_train = CIFAR10(dataset_path,transform =transformis, train = True, download = True )\n",
        "  dataset_inference = CIFAR10(dataset_path,transform =transformis, train = False, download = True )\n",
        "\n",
        "data_train = DataLoader(dataset = dataset_train,batch_size=train_batch_size ,shuffle = True,  **kwargs)\n",
        "data_test = DataLoader(dataset = dataset_train,batch_size=inference_batch_size ,shuffle = True,  **kwargs)\n"
      ]
    },
    {
      "cell_type": "code",
      "execution_count": null,
      "metadata": {
        "id": "n-KlPBOgVcWC"
      },
      "outputs": [],
      "source": [
        "\n",
        "import math"
      ]
    },
    {
      "cell_type": "code",
      "execution_count": null,
      "metadata": {
        "id": "mpNESQ6oUWP1"
      },
      "outputs": [],
      "source": [
        "class SinusoidalPosEmb(nn.Module):\n",
        "    def __init__(self,dim):\n",
        "      super().__init__()\n",
        "      self.dim = dim\n",
        "    def forward(self,x):\n",
        "      device = x.device\n",
        "      half_dim = self.dim//2\n",
        "      emb = math.log(10000) / (half_dim -1)\n",
        "      emb = torch.exp(torch.arange(half_dim,device = device) * -emb)\n",
        "      emb = x[:,None] * emb[None,:]\n",
        "      emb = torch.cat([emb.sin(),emb.cos()], dim = 1 )\n",
        "      return emb\n"
      ]
    },
    {
      "cell_type": "code",
      "execution_count": null,
      "metadata": {
        "id": "-L3f2s_RWH3C"
      },
      "outputs": [],
      "source": [
        "class ConvBlock(nn.Conv2d):\n",
        "  def __init__(self,c_i, c_o, k_s,function_fn = None, drop_r = 0., padding = 'same', stride = 1, groups= 1,dilation = 1, gn_groups = 8, gn = False, bias = True):\n",
        "    if padding == 'same':\n",
        "      padding = k_s // 2 * dilation\n",
        "\n",
        "    super(ConvBlock,self).__init__(c_i, c_o, k_s, padding = padding, stride = stride, groups= groups,dilation = dilation, bias = bias)\n",
        "    self.activation = nn.SiLU() if function_fn else None\n",
        "    self.group_norm = nn.GroupNorm(gn_groups,c_o) if gn else None\n",
        "  def forward(self,x,time_embeding= None, residual= False):\n",
        "    if residual:\n",
        "      x = x + time_embeding\n",
        "      y = x\n",
        "      x = super(ConvBlock, self).forward(x)\n",
        "      y = y + x\n",
        "    else:\n",
        "      y = super(ConvBlock,self).forward(x)\n",
        "\n",
        "    y = self.group_norm(y) if self.group_norm is not None else y\n",
        "    y = self.activation(y) if self.activation is not None else y\n",
        "\n",
        "    return y"
      ]
    },
    {
      "cell_type": "code",
      "execution_count": null,
      "metadata": {
        "id": "TPjJmwTQcuiw"
      },
      "outputs": [],
      "source": [
        "class Denoiser(nn.Module):\n",
        "  def __init__(self, image_resolution, hidden_dim = [256,256], diffusion_t_m_d =256 , n_times = 10000):\n",
        "    super(Denoiser, self).__init__()\n",
        "\n",
        "    _,_,image_C = image_resolution\n",
        "    self.time_emb = SinusoidalPosEmb(diffusion_t_m_d)\n",
        "    self.in_project = ConvBlock(image_C,hidden_dim[0], k_s = 7)\n",
        "    self.time_project = nn.Sequential(\n",
        "        ConvBlock(diffusion_t_m_d,hidden_dim[0],k_s=1,function_fn=True),\n",
        "        ConvBlock(hidden_dim[0],hidden_dim[0],k_s=1))\n",
        "    self.convolutions = nn.ModuleList([ConvBlock(hidden_dim[0],hidden_dim[0],k_s = 3)])\n",
        "\n",
        "    for i in range(1,len(hidden_dim)):\n",
        "      self.convolutions.append(ConvBlock(hidden_dim[i-1],hidden_dim[i], k_s =3 ,dilation= 3**((i-1)//2),function_fn=True,gn_groups=8,gn=True))\n",
        "\n",
        "    self.out_project = ConvBlock(hidden_dim[-1], image_C, k_s= 3)\n",
        "  def forward(self,x_p,t):\n",
        "    y = x_p\n",
        "\n",
        "    time = self.time_emb(t)\n",
        "    time = self.time_project(time.unsqueeze(-1).unsqueeze(-2))\n",
        "\n",
        "    y = self.in_project(y)\n",
        "\n",
        "    for i in range(len(self.convolutions)):\n",
        "      y  = self.convolutions[i](y,time,residual= True)\n",
        "\n",
        "    y = self.out_project(y)\n",
        "    return y"
      ]
    },
    {
      "cell_type": "code",
      "execution_count": null,
      "metadata": {
        "id": "Zuyr15hljMos"
      },
      "outputs": [],
      "source": [
        "model = Denoiser(image_size, hidden_dims, time_embeding_dim,n_timesteps).to(DEVICE)"
      ]
    },
    {
      "cell_type": "code",
      "execution_count": null,
      "metadata": {
        "id": "-3eNK-Ri1U9V"
      },
      "outputs": [],
      "source": [
        "class Denoise(nn.Module):\n",
        "  def __init__(self, model,image_resolution,n_times,beta_minmax, device = 'cuda' ):\n",
        "    super(Denoise, self).__init__()\n",
        "    self.device = device\n",
        "    self.n_times = n_times\n",
        "    self.image_H,self.image_W,self.image_C = image_resolution\n",
        "\n",
        "    self.model = model\n",
        "\n",
        "    beta0,betaM = beta_minmax[0],beta_minmax[-1]\n",
        "    betas = torch.linspace(beta0,betaM,n_times).to(device)\n",
        "    self.betas_s = torch.sqrt(betas)\n",
        "    self.alphas = 1-betas\n",
        "    self.alphas_s = torch.sqrt(self.alphas)\n",
        "    alphas_c = torch.cumprod(self.alphas, dim= 0)\n",
        "    self.alphas_c_s_1 = torch.sqrt(1-alphas_c)\n",
        "    self.alphas_c_s = torch.sqrt(alphas_c)\n",
        "\n",
        "  def extract(self,a,t,x_shape):\n",
        "    b, *_ = t.shape\n",
        "    out = a.gather(-1,t)\n",
        "    return out.reshape(b,*((1,)* (len(x.shape)-1)))\n",
        "  def scale_to_one(self,x):\n",
        "    return (x*2)-1\n",
        "  def rescale(self,x):\n",
        "    return (x+1)*0.5\n",
        "  def make_noisy(self,x_zeros,t):\n",
        "    noise = torch.randn_like(x_zeros).to(self.device)\n",
        "    sqrt_alpha_bar =  self.extract(self.alphas_c_s,t,x_zeros)\n",
        "    sqrt_alpha_1 =  self.extract(self.alphas_c_s_1,t,x_zeros)\n",
        "    noisy_sample = x_zeros * sqrt_alpha_bar + noise * sqrt_alpha_1\n",
        "    return noisy_sample.detach(), noise\n",
        "\n",
        "  def forward(self,x):\n",
        "\n",
        "    x_zeros = self.scale_to_one(x)\n",
        "\n",
        "    B,_,_,_ = x_zeros.shape\n",
        "\n",
        "    t = torch.randint(low=0, high=self.n_times, size= (B,)).long().to(self.device)\n",
        "\n",
        "    pertub_image, noise = self.make_noisy(x_zeros,t)\n",
        "    pred_noise = self.model(pertub_image,t)\n",
        "\n",
        "    return pertub_image,noise, pred_noise\n",
        "\n",
        "  def denoise_at_t(self,x_t,timestep,t):\n",
        "\n",
        "    B,_,_,_ = x_t.shape\n",
        "\n",
        "    if t > 0:\n",
        "      z = torch.randn_like(x_t).to(self.device)\n",
        "    else:\n",
        "      z = torch.zeros_like(x_t).to(self.device)\n",
        "\n",
        "    noise_pred = model(x_t,timestep)\n",
        "    alpha = self.extract(self.alphas, timestep, x_t.shape)\n",
        "    sqrt_alpha = self.extract(self.alphas_s, timestep, x_t.shape)\n",
        "    sqrt_one_minus_alpha_bar = self.extract(self.alphas_c_s_1, timestep, x_t.shape)\n",
        "    sqrt_beta = self.extract(self.betas_s, timestep, x_t.shape)\n",
        "\n",
        "    x_t_minus_1 = 1/sqrt_alpha *  (x_t - (1-alpha)/sqrt_one_minus_alpha_bar*noise_pred) + sqrt_beta*z\n",
        "\n",
        "    return x_t_minus_1.clap(-1,1)\n",
        "\n",
        "  def sample(self,N):\n",
        "    x_t = torch.randn((N,self.image_C,self.image_H,self.image_W)).to(self.device)\n",
        "\n",
        "    for t in range(self.n_times,0,-1):\n",
        "      timestep = torch.tensor([t]).repeat_interleave(N,dim=0).long().to(self.device)\n",
        "      x_t = self.denoise_at_t(x_t,timestep,t)\n",
        "    x_0 = self.rescale(x_t)\n",
        "    return x_0"
      ]
    },
    {
      "cell_type": "code",
      "execution_count": null,
      "metadata": {
        "id": "6p5zki2bCEmI"
      },
      "outputs": [],
      "source": [
        "Diffusion = Denoise(model,image_size,n_timesteps,beta_min_max,DEVICE).to(DEVICE)"
      ]
    },
    {
      "cell_type": "code",
      "execution_count": null,
      "metadata": {
        "id": "b4FUWFywD6RL"
      },
      "outputs": [],
      "source": [
        "optmizer = Adam(Diffusion.parameters(),lr=5e-4)\n",
        "rating_loss= nn.MSELoss()"
      ]
    },
    {
      "cell_type": "code",
      "execution_count": null,
      "metadata": {
        "id": "SyseO0saBJQP"
      },
      "outputs": [],
      "source": [
        "model.eval()\n",
        "for idx ,(x,_)in enumerate(data_test):\n",
        "  x = x.to(DEVICE)\n",
        "  images,n_p,noise = Diffusion(x)\n",
        "  images = Diffusion.rescale(images)\n",
        "  break"
      ]
    },
    {
      "cell_type": "code",
      "execution_count": null,
      "metadata": {
        "id": "sgDkrhGHD33e"
      },
      "outputs": [],
      "source": [
        "def show_image(image,idx):\n",
        "  fig = plt.figure()\n",
        "  plt.imshow(image[idx].transpose(0, 1).transpose(1, 2).detach().cpu().numpy())"
      ]
    },
    {
      "cell_type": "code",
      "execution_count": null,
      "metadata": {
        "colab": {
          "base_uri": "https://localhost:8080/"
        },
        "id": "KVaqmPviHTEl",
        "outputId": "4e0401a0-3884-482d-f604-7207f8a19e1c"
      },
      "outputs": [
        {
          "output_type": "execute_result",
          "data": {
            "text/plain": [
              "torch.Size([64, 1, 28, 28])"
            ]
          },
          "metadata": {},
          "execution_count": 14
        }
      ],
      "source": [
        "images.shape"
      ]
    },
    {
      "cell_type": "code",
      "execution_count": null,
      "metadata": {
        "colab": {
          "base_uri": "https://localhost:8080/",
          "height": 430
        },
        "id": "LJpNxcmZHM4A",
        "outputId": "8c45e1a8-2875-469c-d81c-9db3e57bacfe"
      },
      "outputs": [
        {
          "output_type": "display_data",
          "data": {
            "text/plain": [
              "<Figure size 640x480 with 1 Axes>"
            ],
            "image/png": "[encoded data removed]"
          },
          "metadata": {}
        }
      ],
      "source": [
        "show_image(images,12)"
      ]
    },
    {
      "cell_type": "code",
      "execution_count": null,
      "metadata": {
        "colab": {
          "base_uri": "https://localhost:8080/"
        },
        "id": "EhJkT_ioJO3x",
        "outputId": "47d2db4c-ecab-40af-8206-dfeb8f6cc2c1"
      },
      "outputs": [
        {
          "output_type": "stream",
          "name": "stdout",
          "text": [
            "Number of model parameters:  4870913\n"
          ]
        }
      ],
      "source": [
        "def count_parameters(model):\n",
        "    return sum(p.numel() for p in model.parameters() if p.requires_grad)\n",
        "\n",
        "print(\"Number of model parameters: \", count_parameters(Diffusion))"
      ]
    },
    {
      "cell_type": "code",
      "execution_count": null,
      "metadata": {
        "colab": {
          "background_save": true,
          "base_uri": "https://localhost:8080/"
        },
        "id": "jbo9-1TOHRnl",
        "outputId": "c83f8527-a23f-4c21-b8e4-8e8ce2f48963"
      },
      "outputs": [
        {
          "output_type": "stream",
          "name": "stderr",
          "text": [
            "  0%|          | 0/469 [00:00<?, ?it/s]/usr/local/lib/python3.10/dist-packages/torch/autograd/graph.py:744: UserWarning: Plan failed with a cudnnException: CUDNN_BACKEND_EXECUTION_PLAN_DESCRIPTOR: cudnnFinalize Descriptor Failed cudnn_status: CUDNN_STATUS_NOT_SUPPORTED (Triggered internally at ../aten/src/ATen/native/cudnn/Conv_v8.cpp:919.)\n",
            "  return Variable._execution_engine.run_backward(  # Calls into the C++ engine to run the backward pass\n",
            "100%|██████████| 469/469 [05:21<00:00,  1.46it/s]"
          ]
        },
        {
          "output_type": "stream",
          "name": "stdout",
          "text": [
            "\tEpoch 1 complete! \tDenoising Loss:  1.2528775724080892\n"
          ]
        },
        {
          "output_type": "stream",
          "name": "stderr",
          "text": [
            "\n",
            "100%|██████████| 469/469 [05:26<00:00,  1.44it/s]"
          ]
        },
        {
          "output_type": "stream",
          "name": "stdout",
          "text": [
            "\tEpoch 2 complete! \tDenoising Loss:  1.2527163474478273\n"
          ]
        },
        {
          "output_type": "stream",
          "name": "stderr",
          "text": [
            "\n",
            "100%|██████████| 469/469 [05:26<00:00,  1.44it/s]"
          ]
        },
        {
          "output_type": "stream",
          "name": "stdout",
          "text": [
            "\tEpoch 3 complete! \tDenoising Loss:  1.253864298009465\n"
          ]
        },
        {
          "output_type": "stream",
          "name": "stderr",
          "text": [
            "\n",
            "100%|██████████| 469/469 [05:26<00:00,  1.44it/s]"
          ]
        },
        {
          "output_type": "stream",
          "name": "stdout",
          "text": [
            "\tEpoch 4 complete! \tDenoising Loss:  1.2534519775300963\n"
          ]
        },
        {
          "output_type": "stream",
          "name": "stderr",
          "text": [
            "\n",
            "100%|██████████| 469/469 [05:26<00:00,  1.44it/s]"
          ]
        },
        {
          "output_type": "stream",
          "name": "stdout",
          "text": [
            "\tEpoch 5 complete! \tDenoising Loss:  1.2529013039719346\n"
          ]
        },
        {
          "output_type": "stream",
          "name": "stderr",
          "text": [
            "\n",
            "100%|██████████| 469/469 [05:26<00:00,  1.44it/s]"
          ]
        },
        {
          "output_type": "stream",
          "name": "stdout",
          "text": [
            "\tEpoch 6 complete! \tDenoising Loss:  1.2525463733408186\n"
          ]
        },
        {
          "output_type": "stream",
          "name": "stderr",
          "text": [
            "\n",
            "100%|██████████| 469/469 [05:26<00:00,  1.44it/s]"
          ]
        },
        {
          "output_type": "stream",
          "name": "stdout",
          "text": [
            "\tEpoch 7 complete! \tDenoising Loss:  1.2533777238976243\n"
          ]
        },
        {
          "output_type": "stream",
          "name": "stderr",
          "text": [
            "\n",
            "100%|██████████| 469/469 [05:26<00:00,  1.44it/s]"
          ]
        },
        {
          "output_type": "stream",
          "name": "stdout",
          "text": [
            "\tEpoch 8 complete! \tDenoising Loss:  1.2529259782571058\n"
          ]
        },
        {
          "output_type": "stream",
          "name": "stderr",
          "text": [
            "\n",
            "100%|██████████| 469/469 [05:26<00:00,  1.44it/s]"
          ]
        },
        {
          "output_type": "stream",
          "name": "stdout",
          "text": [
            "\tEpoch 9 complete! \tDenoising Loss:  1.2529057427349253\n"
          ]
        },
        {
          "output_type": "stream",
          "name": "stderr",
          "text": [
            "\n",
            " 64%|██████▍   | 299/469 [03:28<01:58,  1.43it/s]"
          ]
        }
      ],
      "source": [
        "model.train()\n",
        "for epoch in range(20):\n",
        "  noise_loss_prec = 0\n",
        "  for idx,(x,_) in tqdm(enumerate(data_train), total=len(data_train)):\n",
        "    optmizer.zero_grad()\n",
        "    x = x.to(DEVICE)\n",
        "    perturbed_i,predict,noise = Diffusion(x)\n",
        "\n",
        "    loss = rating_loss(predict,noise)\n",
        "\n",
        "    noise_loss_prec += loss.item()\n",
        "\n",
        "    optmizer.step()\n",
        "    loss.backward()\n",
        "\n",
        "  print(\"\\tEpoch\", epoch + 1, \"complete!\", \"\\tDenoising Loss: \", noise_loss_prec / idx)\n",
        "\n",
        "print(\"Finish!!\")"
      ]
    },
    {
      "cell_type": "code",
      "execution_count": null,
      "metadata": {
        "colab": {
          "background_save": true
        },
        "id": "rv2bwtmII9YE"
      },
      "outputs": [],
      "source": [
        "model.eval()\n",
        "\n",
        "with torch.no_grad():\n",
        "    generated_images = Diffusion.sample(64)"
      ]
    },
    {
      "cell_type": "code",
      "execution_count": null,
      "metadata": {
        "colab": {
          "background_save": true
        },
        "id": "zh4p2NDDzRBe"
      },
      "outputs": [],
      "source": []
    }
  ],
  "metadata": {
    "accelerator": "GPU",
    "colab": {
      "gpuType": "T4",
      "provenance": []
    },
    "kernelspec": {
      "display_name": "Python 3",
      "name": "python3"
    },
    "language_info": {
      "name": "python"
    }
  },
  "nbformat": 4,
  "nbformat_minor": 0
}