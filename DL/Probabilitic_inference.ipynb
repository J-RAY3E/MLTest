{
  "nbformat": 4,
  "nbformat_minor": 0,
  "metadata": {
    "colab": {
      "provenance": []
    },
    "kernelspec": {
      "name": "python3",
      "display_name": "Python 3"
    },
    "language_info": {
      "name": "python"
    }
  },
  "cells": [
    {
      "cell_type": "code",
      "execution_count": null,
      "metadata": {
        "id": "JB1KICgVHfXW"
      },
      "outputs": [],
      "source": [
        "import numpy as np\n",
        "import sympy as syp\n",
        "from scipy.stats import norm,expon"
      ]
    },
    {
      "cell_type": "markdown",
      "source": [
        "**Definiotion of Normal and Exponetial distributions funtions**"
      ],
      "metadata": {
        "id": "MsQnReOWfZ0g"
      }
    },
    {
      "cell_type": "code",
      "source": [
        "class Norm():\n",
        "  def __init__(self, mu, eps):\n",
        "    self.mu = mu\n",
        "    self.eps = eps\n",
        "    self.dens = norm(loc=mu,scale=eps)\n",
        "  def pdf(self, x):\n",
        "    return self.dens.pdf(x)\n",
        "  def logPdf(self,n):\n",
        "    return self.dens.logpdf(n)\n",
        "  def batchSample(self,n):\n",
        "    return self.dens.rvs(n)\n"
      ],
      "metadata": {
        "id": "_o0E1McFHoew"
      },
      "execution_count": null,
      "outputs": []
    },
    {
      "cell_type": "code",
      "source": [
        "class Exponential():\n",
        "  def __init__(self, o):\n",
        "    self.o = o\n",
        "    self.dens = expon(o)\n",
        "  def pdf(self, x):\n",
        "    return self.dens.pdf(x)\n",
        "  def logPdf(self,n):\n",
        "    return self.dens.logpdf(n)\n",
        "  def batchSample(self,n):\n",
        "    return self.dens.rvs(n)"
      ],
      "metadata": {
        "id": "ylh57HXt5_x0"
      },
      "execution_count": null,
      "outputs": []
    },
    {
      "cell_type": "markdown",
      "source": [
        "**Probabilistic model using norm likelyhood**"
      ],
      "metadata": {
        "id": "MaRnP-ecfivT"
      }
    },
    {
      "cell_type": "code",
      "source": [
        "def probModel(mu,sigma,y):\n",
        "  normal_prior = Norm(0,10)\n",
        "  mu_prior =  normal_prior.pdf(mu)\n",
        "\n",
        "  exponential_prior = Exponential(1)\n",
        "  sigma_prior = exponential_prior.pdf(sigma)\n",
        "\n",
        "  likelihood = Norm(mu_prior,sigma_prior)\n",
        "  likelihood_prior =  likelihood.pdf(y).prod()\n",
        "\n",
        "  return mu_prior * sigma_prior * likelihood_prior"
      ],
      "metadata": {
        "id": "d8xlJf2O5cG2"
      },
      "execution_count": null,
      "outputs": []
    },
    {
      "cell_type": "markdown",
      "source": [
        "**Probabilistic model using LOG likelyhood**"
      ],
      "metadata": {
        "id": "emmrDBTEf3dO"
      }
    },
    {
      "cell_type": "code",
      "source": [
        "def probLogModel(mu,sigma,y):\n",
        "  normal_prior = Norm(0,10)\n",
        "  mu_prior =  normal_prior.logPdf(mu)\n",
        "  print(mu_prior)\n",
        "  exponential_prior = Exponential(1)\n",
        "  sigma_prior = exponential_prior.logPdf(sigma)\n",
        "  print(sigma_prior)\n",
        "  likelihood = Norm(mu,sigma)\n",
        "  likelihood_prior =  likelihood.logPdf(y).sum()\n",
        "  print(likelihood_prior)\n",
        "  return mu_prior + sigma_prior + likelihood_prior"
      ],
      "metadata": {
        "id": "61jIGUXsyjMA"
      },
      "execution_count": null,
      "outputs": []
    },
    {
      "cell_type": "code",
      "source": [
        "np.random.normal()"
      ],
      "metadata": {
        "colab": {
          "base_uri": "https://localhost:8080/"
        },
        "id": "8k6OPHJI93-P",
        "outputId": "e95e9af8-6177-46a8-97be-010792881f67"
      },
      "execution_count": null,
      "outputs": [
        {
          "output_type": "execute_result",
          "data": {
            "text/plain": [
              "-0.04541795526834458"
            ]
          },
          "metadata": {},
          "execution_count": 38
        }
      ]
    },
    {
      "cell_type": "markdown",
      "source": [
        "**Implementation of algorithm Metropolis Hastings to aprox mean of distribution**"
      ],
      "metadata": {
        "id": "e6u0zlrcgMtA"
      }
    },
    {
      "cell_type": "code",
      "source": [
        "import numpy as np\n",
        "from scipy.stats import norm, expon\n",
        "\n",
        "def probLogModel(mu, sigma, y):\n",
        "    log_prior_mu = norm.logpdf(mu, loc=0, scale=10)\n",
        "    log_prior_sigma = expon.logpdf(sigma, scale=1)\n",
        "    log_likelihood = norm.logpdf(y, loc=mu, scale=sigma).sum()\n",
        "    return log_prior_mu + log_prior_sigma + log_likelihood\n",
        "\n",
        "def Metropolis_Hastings(mu_inicial, sigma_inicial, y, n_samples=10000):\n",
        "    mus = [mu_inicial]\n",
        "    sigmas = [sigma_inicial]\n",
        "\n",
        "    for _ in range(n_samples):\n",
        "        mu_propuesto = np.random.normal(mus[-1], 0.1)\n",
        "        sigma_propuesto = np.random.normal(sigmas[-1], 0.1)\n",
        "\n",
        "        if sigma_propuesto <= 0:\n",
        "            sigma_propuesto = sigmas[-1]\n",
        "\n",
        "        log_p_actual = probLogModel(mus[-1], sigmas[-1], y)\n",
        "        log_p_propuesto = probLogModel(mu_propuesto, sigma_propuesto, y)\n",
        "        r = np.exp(log_p_propuesto - log_p_actual)\n",
        "\n",
        "        if np.random.rand() < r:\n",
        "            mus.append(mu_propuesto)\n",
        "            sigmas.append(sigma_propuesto)\n",
        "        else:\n",
        "            mus.append(mus[-1])\n",
        "            sigmas.append(sigmas[-1])\n",
        "\n",
        "    return np.array(mus), np.array(sigmas)\n",
        "\n",
        "y = np.array([3.0, 4.0, 5.0, 6.0, 7.0])\n",
        "mu_samples, sigma_samples = Metropolis_Hastings(mu_inicial=0.0, sigma_inicial=1.0, y=y)"
      ],
      "metadata": {
        "id": "cv20DrNO_L9X"
      },
      "execution_count": null,
      "outputs": []
    },
    {
      "cell_type": "code",
      "source": [
        "mu_samples"
      ],
      "metadata": {
        "colab": {
          "base_uri": "https://localhost:8080/"
        },
        "id": "EqH5pY76AIp5",
        "outputId": "73fc4f46-d069-4d9e-8099-f9938de92e26"
      },
      "execution_count": null,
      "outputs": [
        {
          "output_type": "execute_result",
          "data": {
            "text/plain": [
              "array([ 0.        , -0.01800512, -0.01800512, ...,  3.85736394,\n",
              "        4.03565536,  4.0142845 ])"
            ]
          },
          "metadata": {},
          "execution_count": 40
        }
      ]
    },
    {
      "cell_type": "code",
      "source": [
        "sigma_samples"
      ],
      "metadata": {
        "colab": {
          "base_uri": "https://localhost:8080/"
        },
        "id": "fsjYBxiUAO0L",
        "outputId": "9971b402-7c9a-4b78-f0a1-737581f628c1"
      },
      "execution_count": null,
      "outputs": [
        {
          "output_type": "execute_result",
          "data": {
            "text/plain": [
              "array([1.        , 1.00389375, 1.00389375, ..., 3.34429872, 3.40586832,\n",
              "       3.29355475])"
            ]
          },
          "metadata": {},
          "execution_count": 41
        }
      ]
    },
    {
      "cell_type": "code",
      "source": [
        "Norm(0,1).pdf(7)"
      ],
      "metadata": {
        "colab": {
          "base_uri": "https://localhost:8080/"
        },
        "id": "L_WrS7YwARlR",
        "outputId": "753376b9-617c-433f-c61a-23800d84e372"
      },
      "execution_count": null,
      "outputs": [
        {
          "output_type": "execute_result",
          "data": {
            "text/plain": [
              "9.134720408364595e-12"
            ]
          },
          "metadata": {},
          "execution_count": 50
        }
      ]
    },
    {
      "cell_type": "code",
      "source": [],
      "metadata": {
        "id": "L73X-5jzAZZx"
      },
      "execution_count": null,
      "outputs": []
    }
  ]
}